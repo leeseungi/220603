{
  "nbformat": 4,
  "nbformat_minor": 0,
  "metadata": {
    "colab": {
      "name": "basic1.ipynb",
      "provenance": [],
      "authorship_tag": "ABX9TyPAMNeYeS5JOqgebhRpcVGl",
      "include_colab_link": true
    },
    "kernelspec": {
      "name": "python3",
      "display_name": "Python 3"
    },
    "language_info": {
      "name": "python"
    }
  },
  "cells": [
    {
      "cell_type": "markdown",
      "metadata": {
        "id": "view-in-github",
        "colab_type": "text"
      },
      "source": [
        "<a href=\"https://colab.research.google.com/github/leeseungi/220603/blob/main/basic1.ipynb\" target=\"_parent\"><img src=\"https://colab.research.google.com/assets/colab-badge.svg\" alt=\"Open In Colab\"/></a>"
      ]
    },
    {
      "cell_type": "code",
      "execution_count": 1,
      "metadata": {
        "colab": {
          "base_uri": "https://localhost:8080/"
        },
        "id": "643vj4Wj8PfB",
        "outputId": "ec97acee-d3f1-4baf-844d-74dc709066d3"
      },
      "outputs": [
        {
          "output_type": "stream",
          "name": "stdout",
          "text": [
            "안녕, 파이썬!\n"
          ]
        }
      ],
      "source": [
        "print(\"안녕, 파이썬!\")"
      ]
    },
    {
      "cell_type": "markdown",
      "source": [
        "문자가 들어가는 것은 무조건 \"\" 또는 ''이 들어가야 한다."
      ],
      "metadata": {
        "id": "UPrr1DMx_s1Y"
      }
    },
    {
      "cell_type": "code",
      "source": [
        "print(5+5)"
      ],
      "metadata": {
        "colab": {
          "base_uri": "https://localhost:8080/"
        },
        "id": "RjocWF7x-zJX",
        "outputId": "03b1fb0a-b8be-475a-ad69-5761a1dffc10"
      },
      "execution_count": 2,
      "outputs": [
        {
          "output_type": "stream",
          "name": "stdout",
          "text": [
            "10\n"
          ]
        }
      ]
    },
    {
      "cell_type": "markdown",
      "source": [
        "숫자가 들어가는 "
      ],
      "metadata": {
        "id": "oyN1ccB4_zgv"
      }
    },
    {
      "cell_type": "code",
      "source": [
        "print(\"3개의 정수값을 입력하시오.\")\n",
        "int1 = int(input(\"첫번째 값을 입력하시오.: \"))\n",
        "int2 = int(input(\"두번재 값을 입력하시오.: \"))\n",
        "int3 = int(input(\"세번째 값을 입력하시오.: \"))\n",
        "print(int1, int2, int3)\n",
        "sum = int1 + int2 + int3\n",
        "print(sum)"
      ],
      "metadata": {
        "colab": {
          "base_uri": "https://localhost:8080/"
        },
        "id": "RoXxQiY5_3xA",
        "outputId": "b224c111-505c-41f2-e771-43771b2e5e23"
      },
      "execution_count": 3,
      "outputs": [
        {
          "output_type": "stream",
          "name": "stdout",
          "text": [
            "3개의 정수값을 입력하시오.\n",
            "첫번째 값을 입력하시오.: 1\n",
            "두번재 값을 입력하시오.: 2\n",
            "세번째 값을 입력하시오.: 3\n",
            "1 2 3\n",
            "6\n"
          ]
        }
      ]
    },
    {
      "cell_type": "code",
      "source": [
        "total = 0\n",
        "counter = 1\n",
        "while counter <= 5:\n",
        "  grade = int(input(\" 정수를 입력하시오.: \"))\n",
        "  total = grade + total\n",
        "  counter = counter + 1\n",
        "aver = total / 15\n",
        "print(aver)"
      ],
      "metadata": {
        "colab": {
          "base_uri": "https://localhost:8080/"
        },
        "id": "nTAc5-LNEVLV",
        "outputId": "24afceaf-c500-4026-d449-56711e325186"
      },
      "execution_count": 12,
      "outputs": [
        {
          "output_type": "stream",
          "name": "stdout",
          "text": [
            " 정수를 입력하시오.: 10\n",
            " 정수를 입력하시오.: 20\n",
            " 정수를 입력하시오.: 30\n",
            " 정수를 입력하시오.: 40\n",
            " 정수를 입력하시오.: 50\n",
            "15.0\n"
          ]
        }
      ]
    },
    {
      "cell_type": "code",
      "source": [
        "pay_rate = int(input(\" 시급을 입력하시오. 2022년 6월 기준 9160원:\"))\n",
        "hour_work = int(input(\"일한 시간을 입력하시오.: \"))\n",
        "mon_pay = pay_rate * hour_work\n",
        "print(mon_pay)"
      ],
      "metadata": {
        "colab": {
          "base_uri": "https://localhost:8080/"
        },
        "id": "XjKAj2HtMPKd",
        "outputId": "509fd5e9-a377-4cdd-fd2e-32a804a2b6a0"
      },
      "execution_count": 13,
      "outputs": [
        {
          "output_type": "stream",
          "name": "stdout",
          "text": [
            " 시급을 입력하시오. 2022년 6월 기준 9160원:9160\n",
            "일한 시간을 입력하시오.: 72\n",
            "659520\n"
          ]
        }
      ]
    }
  ]
}